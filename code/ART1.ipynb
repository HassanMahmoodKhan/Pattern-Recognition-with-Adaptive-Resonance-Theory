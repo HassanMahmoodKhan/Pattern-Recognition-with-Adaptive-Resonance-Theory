{
 "cells": [
  {
   "cell_type": "code",
   "execution_count": 1,
   "id": "31722b5c",
   "metadata": {},
   "outputs": [],
   "source": [
    "import numpy as np\n",
    "import pandas as pd\n",
    "import array as arr\n",
    "import matplotlib.pyplot as plt"
   ]
  },
  {
   "cell_type": "code",
   "execution_count": 2,
   "id": "f50436f0",
   "metadata": {},
   "outputs": [],
   "source": [
    "#Pattern A\n",
    "pattern_A = np.full(shape=(8, 8),fill_value=1)\n",
    "pattern_A[0][0:8] = 0\n",
    "pattern_A[1][0:8] = 0\n",
    "pattern_A[2][0:2] = pattern_A[2][6:8] = 0\n",
    "pattern_A[3][0:2] = pattern_A[3][6:8] = 0\n",
    "pattern_A[4][0:8] = 0\n",
    "pattern_A[5][0:2] = pattern_A[5][6:8] = 0\n",
    "pattern_A[6][0:2] = pattern_A[6][6:8] = 0\n",
    "pattern_A[7][0:2] = pattern_A[7][6:8] = 0"
   ]
  },
  {
   "cell_type": "code",
   "execution_count": 3,
   "id": "5bce8d3c",
   "metadata": {},
   "outputs": [],
   "source": [
    "#Pattern B\n",
    "pattern_B = np.full(shape=(8, 8),fill_value=1)\n",
    "pattern_B[1][0:8] = 0\n",
    "pattern_B[2][0:2] = pattern_B[2][6:8] = 0\n",
    "pattern_B[3][0:2] = pattern_B[3][6:8] = 0\n",
    "pattern_B[4][0:8] = 0\n",
    "pattern_B[5][0:2] = pattern_B[5][6:8] = 0\n",
    "pattern_B[6][0:2] = pattern_B[6][6:8] = 0\n",
    "pattern_B[7][0:8] = 0"
   ]
  },
  {
   "cell_type": "code",
   "execution_count": 4,
   "id": "d407ad8d",
   "metadata": {},
   "outputs": [],
   "source": [
    "#Pattern C\n",
    "pattern_C = np.full(shape=(8, 8),fill_value=1)\n",
    "pattern_C[0][0:7] = 0\n",
    "pattern_C[1][0:2] = 0\n",
    "pattern_C[2][0:2] = 0\n",
    "pattern_C[3][0:2] = 0\n",
    "pattern_C[4][0:2] = 0\n",
    "pattern_C[5][0:2] = 0\n",
    "pattern_C[6][0:2] = 0\n",
    "pattern_C[7][0:7] = 0"
   ]
  },
  {
   "cell_type": "code",
   "execution_count": 5,
   "id": "21ef071e",
   "metadata": {},
   "outputs": [],
   "source": [
    "#Pattern D\n",
    "pattern_D = np.full(shape=(8, 8),fill_value=1)\n",
    "pattern_D[0][0:5] = 0\n",
    "pattern_D[1][0:1] = pattern_D[1][5:6] = 0\n",
    "pattern_D[2][0:1] = pattern_D[2][5:6] = 0\n",
    "pattern_D[3][0:1] = pattern_D[3][5:6] = 0\n",
    "pattern_D[4][0:1] = pattern_D[4][5:6] = 0\n",
    "pattern_D[5][0:1] = pattern_D[5][5:6] = 0\n",
    "pattern_D[6][0:1] = pattern_D[6][5:6] = 0\n",
    "pattern_D[7][0:5] = 0"
   ]
  },
  {
   "cell_type": "code",
   "execution_count": 6,
   "id": "8c360943",
   "metadata": {},
   "outputs": [],
   "source": [
    "#Pattern E\n",
    "pattern_E = np.full(shape=(8, 8),fill_value=1)\n",
    "pattern_E[0][0:7] = 0\n",
    "pattern_E[1][0:2] = 0\n",
    "pattern_E[2][0:2] = 0\n",
    "pattern_E[3][0:7] = 0\n",
    "pattern_E[4][0:2] = 0\n",
    "pattern_E[5][0:2] = 0\n",
    "pattern_E[6][0:7] = 0"
   ]
  },
  {
   "cell_type": "code",
   "execution_count": 7,
   "id": "83b192e6",
   "metadata": {},
   "outputs": [],
   "source": [
    "#Pattern F\n",
    "pattern_F = np.full(shape=(8, 8),fill_value=1)\n",
    "pattern_F[0][0:7] = 0\n",
    "pattern_F[1][0:2] = 0\n",
    "pattern_F[2][0:2] = 0\n",
    "pattern_F[3][0:2] = 0\n",
    "pattern_F[4][0:7] = 0\n",
    "pattern_F[5][0:2] = 0\n",
    "pattern_F[6][0:2] = 0\n",
    "pattern_F[7][0:2] = 0"
   ]
  },
  {
   "cell_type": "code",
   "execution_count": 8,
   "id": "9f4b9cfc",
   "metadata": {},
   "outputs": [],
   "source": [
    "#Pattern G\n",
    "pattern_G = np.full(shape=(8, 8),fill_value=1)\n",
    "pattern_G[0][0:7] = 0\n",
    "pattern_G[1][0:1] = 0\n",
    "pattern_G[2][0:1] = 0\n",
    "pattern_G[3][0:1] = 0\n",
    "pattern_G[4][0:1] = 0\n",
    "pattern_G[5][0:1] = pattern_G[5][3:7] = 0\n",
    "pattern_G[6][0:1] = pattern_G[6][3:4] = pattern_G[6][6:7] = 0\n",
    "pattern_G[7][0:4] = pattern_G[7][6:7] = 0"
   ]
  },
  {
   "cell_type": "code",
   "execution_count": 9,
   "id": "04828e0c",
   "metadata": {},
   "outputs": [],
   "source": [
    "#Pattern H\n",
    "pattern_H = np.full(shape=(8, 8),fill_value=1)\n",
    "pattern_H[0][0:2] = pattern_H[0][6:8] = 0\n",
    "pattern_H[1][0:2] = pattern_H[1][6:8] = 0\n",
    "pattern_H[2][0:2] = pattern_H[2][6:8] = 0\n",
    "pattern_H[3][0:8] = 0\n",
    "pattern_H[4][0:8] = 0\n",
    "pattern_H[5][0:2] = pattern_H[5][6:8] = 0\n",
    "pattern_H[6][0:2] = pattern_H[6][6:8] = 0\n",
    "pattern_H[7][0:2] = pattern_H[7][6:8] = 0"
   ]
  },
  {
   "cell_type": "code",
   "execution_count": 10,
   "id": "6889bef9",
   "metadata": {},
   "outputs": [],
   "source": [
    "#Pattern I\n",
    "pattern_I = np.full(shape=(8, 8),fill_value=1)\n",
    "pattern_I[0][0:8] = 0\n",
    "pattern_I[1][0:8] = 0\n",
    "pattern_I[2][3:5] = 0\n",
    "pattern_I[3][3:5] = 0\n",
    "pattern_I[4][3:5] = 0\n",
    "pattern_I[5][3:5] = 0\n",
    "pattern_I[6][0:8] = 0\n",
    "pattern_I[7][0:8] = 0"
   ]
  },
  {
   "cell_type": "code",
   "execution_count": 11,
   "id": "2e2a9df3",
   "metadata": {},
   "outputs": [],
   "source": [
    "#Pattern J\n",
    "pattern_J = np.full(shape=(8, 8),fill_value=1)\n",
    "pattern_J[0][1:8] = 0\n",
    "pattern_J[1][4:5] = 0\n",
    "pattern_J[2][4:5] = 0\n",
    "pattern_J[3][4:5] = 0\n",
    "pattern_J[4][4:5] = 0\n",
    "pattern_J[5][1:2] = pattern_J[5][4:5] = 0\n",
    "pattern_J[6][1:2] = pattern_J[6][4:5] = 0\n",
    "pattern_J[7][1:5] = 0"
   ]
  },
  {
   "cell_type": "code",
   "execution_count": 12,
   "id": "81d03c76",
   "metadata": {},
   "outputs": [],
   "source": [
    "#Pattern K\n",
    "pattern_K = np.full(shape=(8, 8),fill_value=1)\n",
    "pattern_K[0][0:2] = pattern_K[0][5:6] = 0\n",
    "pattern_K[1][0:2] = pattern_K[1][4:5] = 0\n",
    "pattern_K[2][0:2] = pattern_K[2][3:4] = 0\n",
    "pattern_K[3][0:3] = 0\n",
    "pattern_K[4][0:3] = 0\n",
    "pattern_K[5][0:2] = pattern_K[5][3:4] = 0\n",
    "pattern_K[6][0:2] = pattern_K[6][4:5] = 0\n",
    "pattern_K[7][0:2] = pattern_K[7][5:6] = 0"
   ]
  },
  {
   "cell_type": "code",
   "execution_count": 13,
   "id": "ded7c46f",
   "metadata": {},
   "outputs": [],
   "source": [
    "#Pattern L\n",
    "pattern_L = np.full(shape=(8, 8),fill_value=1)\n",
    "pattern_L[0][0:2] =  0\n",
    "pattern_L[1][0:2] = 0\n",
    "pattern_L[2][0:2] = 0\n",
    "pattern_L[3][0:2] = 0\n",
    "pattern_L[4][0:2] = 0\n",
    "pattern_L[5][0:2] = 0\n",
    "pattern_L[6][0:8] = 0\n",
    "pattern_L[7][0:8] =  0"
   ]
  },
  {
   "cell_type": "code",
   "execution_count": 14,
   "id": "f14be83b",
   "metadata": {},
   "outputs": [],
   "source": [
    "#Pattern M\n",
    "pattern_M = np.full(shape=(8, 8),fill_value=1)\n",
    "pattern_M[0][0:2] = pattern_M[0][6:8] = 0\n",
    "pattern_M[1][0:3] = pattern_M[1][5:8] = 0\n",
    "pattern_M[2][0:2] = pattern_M[2][3:5] = pattern_M[2][6:8] = 0\n",
    "pattern_M[3][0:2]  = pattern_M[3][6:8] =  0\n",
    "pattern_M[4][0:2] = pattern_M[4][6:8] = 0\n",
    "pattern_M[5][0:2] = pattern_M[5][6:8] = 0\n",
    "pattern_M[6][0:2] = pattern_M[6][6:8] = 0\n",
    "pattern_M[7][0:2] = pattern_M[7][6:8] = 0"
   ]
  },
  {
   "cell_type": "code",
   "execution_count": 15,
   "id": "ab0b462f",
   "metadata": {},
   "outputs": [],
   "source": [
    "#Pattern N\n",
    "pattern_N = np.full(shape=(8, 8),fill_value=1)\n",
    "pattern_N[1][0:2] = pattern_N[1][7:8] = 0\n",
    "pattern_N[2][0:1] = pattern_N[2][2:3] = pattern_N[2][7:8] = 0\n",
    "pattern_N[3][0:1] = pattern_N[3][3:4] = pattern_N[3][7:8] = 0\n",
    "pattern_N[4][0:1] = pattern_N[4][4:5] = pattern_N[4][7:8] = 0\n",
    "pattern_N[5][0:1] = pattern_N[5][5:6] = pattern_N[5][7:8] = 0\n",
    "pattern_N[6][0:1] = pattern_N[6][6:8] = 0"
   ]
  },
  {
   "cell_type": "code",
   "execution_count": 16,
   "id": "33df2d21",
   "metadata": {},
   "outputs": [],
   "source": [
    "#Pattern O\n",
    "pattern_O = np.full(shape=(8, 8),fill_value=1)\n",
    "pattern_O[0][2:6] = 0\n",
    "pattern_O[1][1:2] = pattern_O[1][6:7] = 0\n",
    "pattern_O[2][1:2] = pattern_O[2][6:7] = 0\n",
    "pattern_O[3][1:2] = pattern_O[3][6:7] = 0\n",
    "pattern_O[4][1:2] = pattern_O[4][6:7] = 0\n",
    "pattern_O[5][1:2] = pattern_O[5][6:7] = 0\n",
    "pattern_O[6][1:2] = pattern_O[6][6:7] = 0\n",
    "pattern_O[7][2:6] = 0"
   ]
  },
  {
   "cell_type": "code",
   "execution_count": 17,
   "id": "a081c355",
   "metadata": {},
   "outputs": [],
   "source": [
    "#Pattern P\n",
    "pattern_P = np.full(shape=(8, 8),fill_value=1)\n",
    "pattern_P[0][0:6] =  0\n",
    "pattern_P[1][0:2] = pattern_P[1][5:6] = 0\n",
    "pattern_P[2][0:2] = pattern_P[2][5:6] = 0\n",
    "pattern_P[3][0:2] = pattern_P[3][5:6] = 0\n",
    "pattern_P[4][0:6] = 0\n",
    "pattern_P[5][0:2] = 0\n",
    "pattern_P[6][0:2] = 0\n",
    "pattern_P[7][0:2] =  0"
   ]
  },
  {
   "cell_type": "code",
   "execution_count": 18,
   "id": "1b435694",
   "metadata": {},
   "outputs": [],
   "source": [
    "#Pattern Q\n",
    "pattern_Q = np.full(shape=(8, 8),fill_value=1)\n",
    "pattern_Q[0][2:6] = 0\n",
    "pattern_Q[1][1:2] = pattern_Q[1][6:7] = 0\n",
    "pattern_Q[2][1:2] = pattern_Q[2][6:7] = 0\n",
    "pattern_Q[3][1:2] = pattern_Q[3][6:7] = 0\n",
    "pattern_Q[4][1:2] = pattern_Q[4][4:5] = pattern_Q[4][6:7] = 0\n",
    "pattern_Q[5][1:2] = pattern_Q[5][5:6] = pattern_Q[5][6:7] = 0\n",
    "pattern_Q[6][2:7] = 0\n",
    "pattern_Q[7][7:8] = 0"
   ]
  },
  {
   "cell_type": "code",
   "execution_count": 19,
   "id": "4e839408",
   "metadata": {},
   "outputs": [],
   "source": [
    "#Pattern R\n",
    "pattern_R = np.full(shape=(8, 8),fill_value=1)\n",
    "pattern_R[0][0:6] =  0\n",
    "pattern_R[1][0:2] = pattern_R[1][5:6] = 0\n",
    "pattern_R[2][0:2] = pattern_R[2][5:6] = 0\n",
    "pattern_R[3][0:6] = 0\n",
    "pattern_R[4][0:2] = pattern_R[4][2:3] = 0\n",
    "pattern_R[5][0:2] = pattern_R[5][3:4] = 0\n",
    "pattern_R[6][0:2] = pattern_R[6][4:5] = 0\n",
    "pattern_R[7][0:2] = pattern_R[7][5:6] = 0"
   ]
  },
  {
   "cell_type": "code",
   "execution_count": 20,
   "id": "fe03fab7",
   "metadata": {},
   "outputs": [],
   "source": [
    "#Pattern S\n",
    "pattern_S = np.full(shape=(8, 8),fill_value=1)\n",
    "pattern_S[0][0:8] = 0\n",
    "pattern_S[1][0:1] = 0\n",
    "pattern_S[2][0:1] = 0\n",
    "pattern_S[3][0:8] = 0\n",
    "pattern_S[4][7:8] = 0\n",
    "pattern_S[5][7:8] = 0\n",
    "pattern_S[6][0:8] = 0"
   ]
  },
  {
   "cell_type": "code",
   "execution_count": 21,
   "id": "26274d91",
   "metadata": {},
   "outputs": [],
   "source": [
    "#Pattern T\n",
    "pattern_T = np.full(shape=(8, 8),fill_value=1)\n",
    "pattern_T[0][0:8] = 0\n",
    "pattern_T[1][0:8] = 0\n",
    "pattern_T[2][3:5] = 0\n",
    "pattern_T[3][3:5] = 0\n",
    "pattern_T[4][3:5] = 0\n",
    "pattern_T[5][3:5] = 0\n",
    "pattern_T[6][3:5] = 0\n",
    "pattern_T[7][3:5] = 0"
   ]
  },
  {
   "cell_type": "code",
   "execution_count": 22,
   "id": "578785e7",
   "metadata": {},
   "outputs": [
    {
     "data": {
      "text/plain": [
       "(20, 64)"
      ]
     },
     "execution_count": 22,
     "metadata": {},
     "output_type": "execute_result"
    }
   ],
   "source": [
    "arr_A = pattern_A.reshape(-1)\n",
    "arr_B = pattern_B.reshape(-1)\n",
    "arr_C = pattern_C.reshape(-1)\n",
    "arr_D = pattern_D.reshape(-1)\n",
    "arr_E = pattern_E.reshape(-1)\n",
    "arr_F = pattern_F.reshape(-1)\n",
    "arr_G = pattern_G.reshape(-1)\n",
    "arr_H = pattern_H.reshape(-1)\n",
    "arr_I = pattern_I.reshape(-1)\n",
    "arr_J = pattern_J.reshape(-1)\n",
    "arr_K = pattern_K.reshape(-1)\n",
    "arr_L = pattern_L.reshape(-1)\n",
    "arr_M = pattern_M.reshape(-1)\n",
    "arr_N = pattern_N.reshape(-1)\n",
    "arr_O = pattern_O.reshape(-1)\n",
    "arr_P = pattern_P.reshape(-1)\n",
    "arr_Q = pattern_Q.reshape(-1)\n",
    "arr_R = pattern_R.reshape(-1)\n",
    "arr_S = pattern_S.reshape(-1)\n",
    "arr_T = pattern_T.reshape(-1)\n",
    "\n",
    "patterns_binary = list()\n",
    "patterns_binary.append(arr_A)\n",
    "patterns_binary.append(arr_B)\n",
    "patterns_binary.append(arr_C)\n",
    "patterns_binary.append(arr_D)\n",
    "patterns_binary.append(arr_E)\n",
    "patterns_binary.append(arr_F)\n",
    "patterns_binary.append(arr_G)\n",
    "patterns_binary.append(arr_H)\n",
    "patterns_binary.append(arr_I)\n",
    "patterns_binary.append(arr_J)\n",
    "patterns_binary.append(arr_K)\n",
    "patterns_binary.append(arr_L)\n",
    "patterns_binary.append(arr_M)\n",
    "patterns_binary.append(arr_N)\n",
    "patterns_binary.append(arr_O)\n",
    "patterns_binary.append(arr_P)\n",
    "patterns_binary.append(arr_Q)\n",
    "patterns_binary.append(arr_R)\n",
    "patterns_binary.append(arr_S)\n",
    "patterns_binary.append(arr_T)\n",
    "patterns_binary = np.array(patterns_binary)\n",
    "patterns_binary.shape"
   ]
  },
  {
   "cell_type": "code",
   "execution_count": 23,
   "id": "ff1f759c",
   "metadata": {},
   "outputs": [],
   "source": [
    "def graph_plotter(patterns, height=8, width=8):\n",
    "    num_of_patterns = len(patterns)\n",
    "    fig, ax  = plt.subplots(1, num_of_patterns, figsize=(18,18))\n",
    "    for i in range(0,num_of_patterns):\n",
    "        ax[i].matshow(patterns[i].reshape((height, width)), cmap='gray')\n",
    "        ax[i].set_xticks([])\n",
    "        ax[i].set_yticks([])"
   ]
  },
  {
   "cell_type": "code",
   "execution_count": 24,
   "id": "699c1f17",
   "metadata": {},
   "outputs": [
    {
     "data": {
      "image/png": "[encoded data removed]",
      "text/plain": [
       "<Figure size 1296x1296 with 20 Axes>"
      ]
     },
     "metadata": {},
     "output_type": "display_data"
    }
   ],
   "source": [
    "graph_plotter(patterns_binary)"
   ]
  },
  {
   "cell_type": "code",
   "execution_count": 25,
   "id": "7fa95b17",
   "metadata": {},
   "outputs": [],
   "source": [
    "def noise(patterns,n=64, nr_of_flips=3):\n",
    "    corrupted_patterns = list()\n",
    "    for pattern in patterns:\n",
    "        array = np.copy(pattern)\n",
    "        idx_reassignment = np.random.choice(n, nr_of_flips, replace=False)# pick no of pixels to flip (without replacement)\n",
    "        for i in (idx_reassignment):\n",
    "            if array[i]==0:\n",
    "                array[i]=1\n",
    "            else:\n",
    "                array[i]=0\n",
    "        corrupted_patterns.append(array)\n",
    "    return np.array(corrupted_patterns)"
   ]
  },
  {
   "cell_type": "code",
   "execution_count": 26,
   "id": "bbf2e3b4",
   "metadata": {},
   "outputs": [
    {
     "data": {
      "image/png": "[encoded data removed]",
      "text/plain": [
       "<Figure size 1296x1296 with 20 Axes>"
      ]
     },
     "metadata": {},
     "output_type": "display_data"
    }
   ],
   "source": [
    "noisy_patterns = noise(patterns_binary)\n",
    "graph_plotter(noisy_patterns)"
   ]
  },
  {
   "cell_type": "code",
   "execution_count": 29,
   "id": "5d88619a",
   "metadata": {},
   "outputs": [],
   "source": [
    "class ART():\n",
    "\n",
    "    def __init__(self, n_clusters, vigilence , learning_rate = 1.5):\n",
    "        self.vigilence = vigilence\n",
    "        self.n_clusters = n_clusters\n",
    "        self.learning_rate = learning_rate # L>1\n",
    "        \n",
    "    def train(self, X):\n",
    "\n",
    "        n_samples, n_features = X.shape\n",
    "\n",
    "        if np.any((X != 0) & (X != 1)): # Binary patterns only\n",
    "            raise ValueError(\"ART1 Network works only with binary matrices\")\n",
    "\n",
    "        if not hasattr(self, 'weight_21'): # Top-down LTM Traces initialization\n",
    "            self.weight_21 = np.ones((n_features, self.n_clusters))\n",
    "            self.weight_21 [self.weight_21==1] = 0.5\n",
    "        if not hasattr(self, 'weight_12'): # Bottom-up LTM Traces initialization\n",
    "            scaler = self.learning_rate / (self.learning_rate + self.n_clusters - 1)\n",
    "            self.weight_12 = scaler * self.weight_21.T\n",
    "\n",
    "        weight_21 = self.weight_21\n",
    "        weight_12 = self.weight_12\n",
    "\n",
    "        if n_features != weight_21.shape[0]:\n",
    "            raise ValueError(\"Input data has invalid number of features. \"\n",
    "                             \"Got {} instead of {}\"\n",
    "                             \"\".format(n_features, weight_21.shape[0]))\n",
    "\n",
    "        classes = np.zeros(n_samples)\n",
    "\n",
    "        # Train network\n",
    "        for i, p in enumerate(X):\n",
    "            disabled_neurons = []\n",
    "            reseted_values = []\n",
    "            reset = True\n",
    "\n",
    "            while reset:\n",
    "                output1 = p\n",
    "                input2 = np.dot(weight_12, output1.T)\n",
    "\n",
    "                output2 = np.zeros(input2.size)\n",
    "                input2[disabled_neurons] = -np.inf\n",
    "                winner_index = input2.argmax()\n",
    "                output2[winner_index] = 1\n",
    "\n",
    "                expectation = np.dot(weight_21, output2)\n",
    "                output1 = np.logical_and(p, expectation).astype(int)\n",
    "\n",
    "                reset_value = np.dot(output1.T, output1) / np.dot(p.T, p)\n",
    "                reset = reset_value < self.vigilence\n",
    "\n",
    "                if reset:\n",
    "                    disabled_neurons.append(winner_index)\n",
    "                    reseted_values.append((reset_value, winner_index))\n",
    "\n",
    "                if len(disabled_neurons) >= n_clusters:\n",
    "                    # Got this case only if we test all possible clusters\n",
    "                    reset = False\n",
    "                    winner_index = None\n",
    "\n",
    "                if not reset:\n",
    "                    if winner_index is not None:\n",
    "                        weight_12[winner_index, :] = (self.learning_rate * output1) / (\n",
    "                            self.learning_rate + np.dot(output1.T, output1) - 1\n",
    "                        )\n",
    "                        weight_21[:, winner_index] = output1\n",
    "                    else:\n",
    "                        # Get result with the best `vigilence`\n",
    "                        winner_index = max(reseted_values)[1]\n",
    "\n",
    "                    classes[i] = winner_index\n",
    "\n",
    "        return classes"
   ]
  },
  {
   "cell_type": "code",
   "execution_count": 33,
   "id": "cd94ebb8",
   "metadata": {},
   "outputs": [
    {
     "name": "stdout",
     "output_type": "stream",
     "text": [
      "[ 0.  0.  0.  1.  2.  0.  3.  0.  4.  5.  6.  7.  0.  8.  9. 10. 11. 12.\n",
      " 13.  4.]\n"
     ]
    }
   ],
   "source": [
    "n_clusters = patterns_binary.shape[0]\n",
    "vigilence = 0.3\n",
    "art = ART(n_clusters, vigilence)\n",
    "output = art.train(patterns_binary)\n",
    "print(output)"
   ]
  }
 ],
 "metadata": {
  "kernelspec": {
   "display_name": "Python 3 (ipykernel)",
   "language": "python",
   "name": "python3"
  },
  "language_info": {
   "codemirror_mode": {
    "name": "ipython",
    "version": 3
   },
   "file_extension": ".py",
   "mimetype": "text/x-python",
   "name": "python",
   "nbconvert_exporter": "python",
   "pygments_lexer": "ipython3",
   "version": "3.9.12"
  }
 },
 "nbformat": 4,
 "nbformat_minor": 5
}
